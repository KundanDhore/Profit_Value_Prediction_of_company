{
 "cells": [
  {
   "cell_type": "code",
   "execution_count": 1,
   "id": "80f2cfe2",
   "metadata": {},
   "outputs": [],
   "source": [
    "import numpy as np \n",
    "import matplotlib.pyplot as plt \n",
    "import pandas as pd \n",
    "import seaborn as sns \n",
    "import sklearn "
   ]
  },
  {
   "cell_type": "markdown",
   "id": "128546f5",
   "metadata": {},
   "source": [
    "#importing Dataset"
   ]
  },
  {
   "cell_type": "code",
   "execution_count": 3,
   "id": "5191267a",
   "metadata": {},
   "outputs": [],
   "source": [
    "dataset = pd.read_csv('50_Startups.csv')"
   ]
  },
  {
   "cell_type": "code",
   "execution_count": 5,
   "id": "5726190c",
   "metadata": {},
   "outputs": [
    {
     "data": {
      "text/plain": [
       "(   R&D Spend  Administration  Marketing Spend     Profit\n",
       " 0  165349.20       136897.80        471784.10  192261.83\n",
       " 1  162597.70       151377.59        443898.53  191792.06\n",
       " 2  153441.51       101145.55        407934.54  191050.39\n",
       " 3  144372.41       118671.85        383199.62  182901.99\n",
       " 4  142107.34        91391.77        366168.42  166187.94,\n",
       "     R&D Spend  Administration  Marketing Spend    Profit\n",
       " 45    1000.23       124153.04          1903.93  64926.08\n",
       " 46    1315.46       115816.21        297114.46  49490.75\n",
       " 47       0.00       135426.92             0.00  42559.73\n",
       " 48     542.05        51743.15             0.00  35673.41\n",
       " 49       0.00       116983.80         45173.06  14681.40)"
      ]
     },
     "execution_count": 5,
     "metadata": {},
     "output_type": "execute_result"
    }
   ],
   "source": [
    "dataset.head(),dataset.tail()"
   ]
  },
  {
   "cell_type": "code",
   "execution_count": 7,
   "id": "d16e63d4",
   "metadata": {},
   "outputs": [
    {
     "name": "stdout",
     "output_type": "stream",
     "text": [
      "rows : 50\n",
      "columns : 4\n"
     ]
    }
   ],
   "source": [
    "print('rows :',dataset.shape[0])\n",
    "print('columns :',dataset.shape[1])"
   ]
  },
  {
   "cell_type": "code",
   "execution_count": 8,
   "id": "0d2b52a4",
   "metadata": {},
   "outputs": [
    {
     "data": {
      "text/plain": [
       "0"
      ]
     },
     "execution_count": 8,
     "metadata": {},
     "output_type": "execute_result"
    }
   ],
   "source": [
    "#checking for repeated values in dataset\n",
    "dataset.duplicated().sum()"
   ]
  },
  {
   "cell_type": "code",
   "execution_count": 9,
   "id": "5c7a84c5",
   "metadata": {},
   "outputs": [
    {
     "data": {
      "text/plain": [
       "R&D Spend          0\n",
       "Administration     0\n",
       "Marketing Spend    0\n",
       "Profit             0\n",
       "dtype: int64"
      ]
     },
     "execution_count": 9,
     "metadata": {},
     "output_type": "execute_result"
    }
   ],
   "source": [
    "#checking for null values in dataset\n",
    "dataset.isnull().sum()"
   ]
  },
  {
   "cell_type": "code",
   "execution_count": 10,
   "id": "81204b6a",
   "metadata": {},
   "outputs": [
    {
     "name": "stdout",
     "output_type": "stream",
     "text": [
      "<class 'pandas.core.frame.DataFrame'>\n",
      "RangeIndex: 50 entries, 0 to 49\n",
      "Data columns (total 4 columns):\n",
      " #   Column           Non-Null Count  Dtype  \n",
      "---  ------           --------------  -----  \n",
      " 0   R&D Spend        50 non-null     float64\n",
      " 1   Administration   50 non-null     float64\n",
      " 2   Marketing Spend  50 non-null     float64\n",
      " 3   Profit           50 non-null     float64\n",
      "dtypes: float64(4)\n",
      "memory usage: 1.7 KB\n"
     ]
    }
   ],
   "source": [
    "#dataset schema\n",
    "dataset.info()"
   ]
  },
  {
   "cell_type": "code",
   "execution_count": 12,
   "id": "6ef8475c",
   "metadata": {},
   "outputs": [],
   "source": [
    "#corr function\n",
    "#corr() is used to find the pairwise correlation of all columns in the dataframe. Any na values are automatically excluded. For any non-numeric data type columns in the dataframe it is ignored.\n",
    "c = dataset.corr()"
   ]
  },
  {
   "cell_type": "code",
   "execution_count": 13,
   "id": "28869c99",
   "metadata": {},
   "outputs": [
    {
     "data": {
      "text/html": [
       "<div>\n",
       "<style scoped>\n",
       "    .dataframe tbody tr th:only-of-type {\n",
       "        vertical-align: middle;\n",
       "    }\n",
       "\n",
       "    .dataframe tbody tr th {\n",
       "        vertical-align: top;\n",
       "    }\n",
       "\n",
       "    .dataframe thead th {\n",
       "        text-align: right;\n",
       "    }\n",
       "</style>\n",
       "<table border=\"1\" class=\"dataframe\">\n",
       "  <thead>\n",
       "    <tr style=\"text-align: right;\">\n",
       "      <th></th>\n",
       "      <th>R&amp;D Spend</th>\n",
       "      <th>Administration</th>\n",
       "      <th>Marketing Spend</th>\n",
       "      <th>Profit</th>\n",
       "    </tr>\n",
       "  </thead>\n",
       "  <tbody>\n",
       "    <tr>\n",
       "      <th>R&amp;D Spend</th>\n",
       "      <td>1.000000</td>\n",
       "      <td>0.241955</td>\n",
       "      <td>0.724248</td>\n",
       "      <td>0.972900</td>\n",
       "    </tr>\n",
       "    <tr>\n",
       "      <th>Administration</th>\n",
       "      <td>0.241955</td>\n",
       "      <td>1.000000</td>\n",
       "      <td>-0.032154</td>\n",
       "      <td>0.200717</td>\n",
       "    </tr>\n",
       "    <tr>\n",
       "      <th>Marketing Spend</th>\n",
       "      <td>0.724248</td>\n",
       "      <td>-0.032154</td>\n",
       "      <td>1.000000</td>\n",
       "      <td>0.747766</td>\n",
       "    </tr>\n",
       "    <tr>\n",
       "      <th>Profit</th>\n",
       "      <td>0.972900</td>\n",
       "      <td>0.200717</td>\n",
       "      <td>0.747766</td>\n",
       "      <td>1.000000</td>\n",
       "    </tr>\n",
       "  </tbody>\n",
       "</table>\n",
       "</div>"
      ],
      "text/plain": [
       "                 R&D Spend  Administration  Marketing Spend    Profit\n",
       "R&D Spend         1.000000        0.241955         0.724248  0.972900\n",
       "Administration    0.241955        1.000000        -0.032154  0.200717\n",
       "Marketing Spend   0.724248       -0.032154         1.000000  0.747766\n",
       "Profit            0.972900        0.200717         0.747766  1.000000"
      ]
     },
     "execution_count": 13,
     "metadata": {},
     "output_type": "execute_result"
    }
   ],
   "source": [
    "c"
   ]
  },
  {
   "cell_type": "markdown",
   "id": "919b52ee",
   "metadata": {},
   "source": [
    "correlation matrix"
   ]
  },
  {
   "cell_type": "code",
   "execution_count": 14,
   "id": "b054622f",
   "metadata": {},
   "outputs": [
    {
     "data": {
      "image/png": "[encoded data removed]",
      "text/plain": [
       "<Figure size 432x288 with 2 Axes>"
      ]
     },
     "metadata": {
      "needs_background": "light"
     },
     "output_type": "display_data"
    }
   ],
   "source": [
    "sns.heatmap(c,annot=True,cmap='Blues')\n",
    "plt.show()"
   ]
  },
  {
   "cell_type": "markdown",
   "id": "fb25132f",
   "metadata": {},
   "source": [
    "Outliers detection in the target variable"
   ]
  },
  {
   "cell_type": "code",
   "execution_count": 15,
   "id": "d72a74d4",
   "metadata": {},
   "outputs": [
    {
     "data": {
      "image/png": "[encoded data removed]",
      "text/plain": [
       "<Figure size 576x576 with 1 Axes>"
      ]
     },
     "metadata": {
      "needs_background": "light"
     },
     "output_type": "display_data"
    }
   ],
   "source": [
    "outliers = ['Profit']\n",
    "plt.rcParams['figure.figsize'] = [8,8]\n",
    "sns.boxplot(data=dataset[outliers], orient=\"v\", palette=\"Set2\" , width=0.7) # orient = \"v\" : vertical boxplot , \n",
    "                                                                            # orient = \"h\" : hotrizontal boxplot\n",
    "plt.title(\"Outliers Variable Distribution\")\n",
    "plt.ylabel(\"Profit Range\")\n",
    "plt.xlabel(\"Continuous Variable\")\n",
    "\n",
    "plt.show()"
   ]
  },
  {
   "cell_type": "code",
   "execution_count": 18,
   "id": "7b15ebd2",
   "metadata": {},
   "outputs": [
    {
     "name": "stderr",
     "output_type": "stream",
     "text": [
      "c:\\users\\91755\\appdata\\local\\programs\\python\\python39\\lib\\site-packages\\seaborn\\distributions.py:2557: FutureWarning: `distplot` is a deprecated function and will be removed in a future version. Please adapt your code to use either `displot` (a figure-level function with similar flexibility) or `histplot` (an axes-level function for histograms).\n",
      "  warnings.warn(msg, FutureWarning)\n"
     ]
    },
    {
     "data": {
      "image/png": "[encoded data removed]",
      "text/plain": [
       "<Figure size 576x576 with 1 Axes>"
      ]
     },
     "metadata": {
      "needs_background": "light"
     },
     "output_type": "display_data"
    }
   ],
   "source": [
    "sns.distplot(dataset['Profit'],bins=5,kde=True)\n",
    "plt.show()"
   ]
  },
  {
   "cell_type": "code",
   "execution_count": 19,
   "id": "a4e032b3",
   "metadata": {},
   "outputs": [
    {
     "data": {
      "image/png": "[encoded data removed]",
      "text/plain": [
       "<Figure size 720x720 with 20 Axes>"
      ]
     },
     "metadata": {
      "needs_background": "light"
     },
     "output_type": "display_data"
    },
    {
     "data": {
      "text/plain": [
       "<Figure size 360x360 with 0 Axes>"
      ]
     },
     "metadata": {},
     "output_type": "display_data"
    }
   ],
   "source": [
    "sns.pairplot(dataset)\n",
    "plt.figure(figsize=(5,5))\n",
    "plt.show()"
   ]
  },
  {
   "cell_type": "markdown",
   "id": "38c34e89",
   "metadata": {},
   "source": [
    "# model preparation"
   ]
  },
  {
   "cell_type": "code",
   "execution_count": 21,
   "id": "fee0b36d",
   "metadata": {},
   "outputs": [],
   "source": [
    "# spliting Dataset in Dependent & Independent Variables\n",
    "X = dataset.iloc[:, :-1].values\n",
    "y = dataset.iloc[:, 3].values"
   ]
  },
  {
   "cell_type": "code",
   "execution_count": 24,
   "id": "2e94e6ed",
   "metadata": {},
   "outputs": [],
   "source": [
    "from sklearn.preprocessing import LabelEncoder"
   ]
  },
  {
   "cell_type": "code",
   "execution_count": 26,
   "id": "5e82b936",
   "metadata": {
    "scrolled": true
   },
   "outputs": [
    {
     "data": {
      "text/html": [
       "<div>\n",
       "<style scoped>\n",
       "    .dataframe tbody tr th:only-of-type {\n",
       "        vertical-align: middle;\n",
       "    }\n",
       "\n",
       "    .dataframe tbody tr th {\n",
       "        vertical-align: top;\n",
       "    }\n",
       "\n",
       "    .dataframe thead th {\n",
       "        text-align: right;\n",
       "    }\n",
       "</style>\n",
       "<table border=\"1\" class=\"dataframe\">\n",
       "  <thead>\n",
       "    <tr style=\"text-align: right;\">\n",
       "      <th></th>\n",
       "      <th>0</th>\n",
       "      <th>1</th>\n",
       "      <th>2</th>\n",
       "    </tr>\n",
       "  </thead>\n",
       "  <tbody>\n",
       "    <tr>\n",
       "      <th>0</th>\n",
       "      <td>165349.20</td>\n",
       "      <td>136897.80</td>\n",
       "      <td>47.0</td>\n",
       "    </tr>\n",
       "    <tr>\n",
       "      <th>1</th>\n",
       "      <td>162597.70</td>\n",
       "      <td>151377.59</td>\n",
       "      <td>46.0</td>\n",
       "    </tr>\n",
       "    <tr>\n",
       "      <th>2</th>\n",
       "      <td>153441.51</td>\n",
       "      <td>101145.55</td>\n",
       "      <td>45.0</td>\n",
       "    </tr>\n",
       "    <tr>\n",
       "      <th>3</th>\n",
       "      <td>144372.41</td>\n",
       "      <td>118671.85</td>\n",
       "      <td>44.0</td>\n",
       "    </tr>\n",
       "    <tr>\n",
       "      <th>4</th>\n",
       "      <td>142107.34</td>\n",
       "      <td>91391.77</td>\n",
       "      <td>43.0</td>\n",
       "    </tr>\n",
       "  </tbody>\n",
       "</table>\n",
       "</div>"
      ],
      "text/plain": [
       "           0          1     2\n",
       "0  165349.20  136897.80  47.0\n",
       "1  162597.70  151377.59  46.0\n",
       "2  153441.51  101145.55  45.0\n",
       "3  144372.41  118671.85  44.0\n",
       "4  142107.34   91391.77  43.0"
      ]
     },
     "execution_count": 26,
     "metadata": {},
     "output_type": "execute_result"
    }
   ],
   "source": [
    "#Label Encoder : Encode labels with value between 0 and n_classes-1.\n",
    "labelencoder = LabelEncoder()\n",
    "X[:, 2] = labelencoder.fit_transform(X[:, 2])\n",
    "X1 = pd.DataFrame(X)\n",
    "X1.head()"
   ]
  },
  {
   "cell_type": "markdown",
   "id": "e4d401e5",
   "metadata": {},
   "source": [
    "# split the data into training and testing data"
   ]
  },
  {
   "cell_type": "code",
   "execution_count": 27,
   "id": "1704c4f2",
   "metadata": {},
   "outputs": [
    {
     "data": {
      "text/plain": [
       "array([[1.3029813e+05, 1.4553006e+05, 4.0000000e+01],\n",
       "       [1.1994324e+05, 1.5654742e+05, 2.8000000e+01],\n",
       "       [1.0002300e+03, 1.2415304e+05, 1.0000000e+00],\n",
       "       [5.4205000e+02, 5.1743150e+04, 0.0000000e+00],\n",
       "       [6.5605480e+04, 1.5303206e+05, 8.0000000e+00],\n",
       "       [1.1452361e+05, 1.2261684e+05, 2.9000000e+01],\n",
       "       [6.1994480e+04, 1.1564128e+05, 7.0000000e+00],\n",
       "       [6.3408860e+04, 1.2921961e+05, 5.0000000e+00],\n",
       "       [7.8013110e+04, 1.2159755e+05, 3.0000000e+01],\n",
       "       [2.3640930e+04, 9.6189630e+04, 1.4000000e+01],\n",
       "       [7.6253860e+04, 1.1386730e+05, 3.4000000e+01],\n",
       "       [1.5505730e+04, 1.2738230e+05, 3.0000000e+00],\n",
       "       [1.2054252e+05, 1.4871895e+05, 3.9000000e+01],\n",
       "       [9.1992390e+04, 1.3549507e+05, 2.7000000e+01],\n",
       "       [6.4664710e+04, 1.3955316e+05, 1.2000000e+01],\n",
       "       [1.3187690e+05, 9.9814710e+04, 4.2000000e+01],\n",
       "       [9.4657160e+04, 1.4507758e+05, 3.1000000e+01],\n",
       "       [2.8754330e+04, 1.1854605e+05, 1.6000000e+01],\n",
       "       [0.0000000e+00, 1.1698380e+05, 4.0000000e+00],\n",
       "       [1.6259770e+05, 1.5137759e+05, 4.6000000e+01],\n",
       "       [9.3863750e+04, 1.2732038e+05, 2.6000000e+01],\n",
       "       [4.4069950e+04, 5.1283140e+04, 1.9000000e+01],\n",
       "       [7.7044010e+04, 9.9281340e+04, 1.3000000e+01],\n",
       "       [1.3461546e+05, 1.4719887e+05, 1.0000000e+01],\n",
       "       [6.7532530e+04, 1.0575103e+05, 3.7000000e+01],\n",
       "       [2.8663760e+04, 1.2705621e+05, 2.0000000e+01],\n",
       "       [7.8389470e+04, 1.5377343e+05, 3.5000000e+01],\n",
       "       [8.6419700e+04, 1.5351411e+05, 0.0000000e+00],\n",
       "       [1.2333488e+05, 1.0867917e+05, 3.8000000e+01],\n",
       "       [3.8558510e+04, 8.2982090e+04, 1.7000000e+01],\n",
       "       [1.3154600e+03, 1.1581621e+05, 3.3000000e+01],\n",
       "       [1.4437241e+05, 1.1867185e+05, 4.4000000e+01],\n",
       "       [1.6534920e+05, 1.3689780e+05, 4.7000000e+01],\n",
       "       [0.0000000e+00, 1.3542692e+05, 0.0000000e+00],\n",
       "       [2.2177740e+04, 1.5480614e+05, 2.0000000e+00]])"
      ]
     },
     "execution_count": 27,
     "metadata": {},
     "output_type": "execute_result"
    }
   ],
   "source": [
    "split the data into training and testing data\n",
    "from sklearn.model_selection import train_test_split\n",
    "\n",
    "x_train,x_test,y_train,y_test = train_test_split(X,y,train_size=0.7,random_state=0)\n",
    "x_train\n"
   ]
  },
  {
   "cell_type": "code",
   "execution_count": 30,
   "id": "2dff1887",
   "metadata": {},
   "outputs": [
    {
     "data": {
      "text/plain": [
       "'from sklearn.preprocessing import StandardScaler\\nsc_X = StandardScaler()\\nX_train = sc_X.fit_transform(X_train)\\nX_test = sc_X.transform(X_test)\\nsc_y = StandardScaler()\\ny_train = sc_y.fit_transform(y_train)\\ny_test = sc_y.fit_transform(y_test)'"
      ]
     },
     "execution_count": 30,
     "metadata": {},
     "output_type": "execute_result"
    }
   ],
   "source": [
    "# Feature Scaling -- Useful when Features have different units\n",
    "\n",
    "\"\"\"from sklearn.preprocessing import StandardScaler\n",
    "sc_X = StandardScaler()\n",
    "X_train = sc_X.fit_transform(X_train)\n",
    "X_test = sc_X.transform(X_test)\n",
    "sc_y = StandardScaler()\n",
    "y_train = sc_y.fit_transform(y_train)\n",
    "y_test = sc_y.fit_transform(y_test)\"\"\""
   ]
  },
  {
   "cell_type": "code",
   "execution_count": 31,
   "id": "bed4c359",
   "metadata": {},
   "outputs": [
    {
     "name": "stdout",
     "output_type": "stream",
     "text": [
      "Model has been trained successfully\n"
     ]
    }
   ],
   "source": [
    "from sklearn.linear_model import LinearRegression\n",
    "\n",
    "model = LinearRegression()\n",
    "model.fit(x_train,y_train)\n",
    "print('Model has been trained successfully')"
   ]
  },
  {
   "cell_type": "code",
   "execution_count": 32,
   "id": "cf36061e",
   "metadata": {},
   "outputs": [
    {
     "data": {
      "text/plain": [
       "array([103365.65430448, 132409.63159464, 133669.58924177,  71596.33493623,\n",
       "       179574.8809234 , 114195.96899299,  65656.85292429,  97938.81018901,\n",
       "       114412.29898539, 169772.36831918,  96050.9051499 ,  87515.25731045,\n",
       "       110242.6075272 ,  90000.89195708, 127479.23515393])"
      ]
     },
     "execution_count": 32,
     "metadata": {},
     "output_type": "execute_result"
    }
   ],
   "source": [
    "y_pred = model.predict(x_test)\n",
    "y_pred"
   ]
  },
  {
   "cell_type": "code",
   "execution_count": 33,
   "id": "c1fe88a4",
   "metadata": {},
   "outputs": [
    {
     "name": "stdout",
     "output_type": "stream",
     "text": [
      "Model Score/Performance on Testing data 0.9324057207634493\n",
      "Model Score/Performance on Training data 0.9506671824404848\n"
     ]
    }
   ],
   "source": [
    "testing_data_model_score = model.score(x_test, y_test)\n",
    "print(\"Model Score/Performance on Testing data\",testing_data_model_score)\n",
    "\n",
    "training_data_model_score = model.score(x_train, y_train)\n",
    "print(\"Model Score/Performance on Training data\",training_data_model_score)"
   ]
  },
  {
   "cell_type": "code",
   "execution_count": 34,
   "id": "9826da28",
   "metadata": {},
   "outputs": [
    {
     "data": {
      "text/html": [
       "<div>\n",
       "<style scoped>\n",
       "    .dataframe tbody tr th:only-of-type {\n",
       "        vertical-align: middle;\n",
       "    }\n",
       "\n",
       "    .dataframe tbody tr th {\n",
       "        vertical-align: top;\n",
       "    }\n",
       "\n",
       "    .dataframe thead th {\n",
       "        text-align: right;\n",
       "    }\n",
       "</style>\n",
       "<table border=\"1\" class=\"dataframe\">\n",
       "  <thead>\n",
       "    <tr style=\"text-align: right;\">\n",
       "      <th></th>\n",
       "      <th>Predicted value</th>\n",
       "      <th>Actual Value</th>\n",
       "    </tr>\n",
       "  </thead>\n",
       "  <tbody>\n",
       "    <tr>\n",
       "      <th>0</th>\n",
       "      <td>103365.654304</td>\n",
       "      <td>103282.38</td>\n",
       "    </tr>\n",
       "    <tr>\n",
       "      <th>1</th>\n",
       "      <td>132409.631595</td>\n",
       "      <td>144259.40</td>\n",
       "    </tr>\n",
       "    <tr>\n",
       "      <th>2</th>\n",
       "      <td>133669.589242</td>\n",
       "      <td>146121.95</td>\n",
       "    </tr>\n",
       "    <tr>\n",
       "      <th>3</th>\n",
       "      <td>71596.334936</td>\n",
       "      <td>77798.83</td>\n",
       "    </tr>\n",
       "    <tr>\n",
       "      <th>4</th>\n",
       "      <td>179574.880923</td>\n",
       "      <td>191050.39</td>\n",
       "    </tr>\n",
       "    <tr>\n",
       "      <th>5</th>\n",
       "      <td>114195.968993</td>\n",
       "      <td>105008.31</td>\n",
       "    </tr>\n",
       "    <tr>\n",
       "      <th>6</th>\n",
       "      <td>65656.852924</td>\n",
       "      <td>81229.06</td>\n",
       "    </tr>\n",
       "    <tr>\n",
       "      <th>7</th>\n",
       "      <td>97938.810189</td>\n",
       "      <td>97483.56</td>\n",
       "    </tr>\n",
       "    <tr>\n",
       "      <th>8</th>\n",
       "      <td>114412.298985</td>\n",
       "      <td>110352.25</td>\n",
       "    </tr>\n",
       "    <tr>\n",
       "      <th>9</th>\n",
       "      <td>169772.368319</td>\n",
       "      <td>166187.94</td>\n",
       "    </tr>\n",
       "    <tr>\n",
       "      <th>10</th>\n",
       "      <td>96050.905150</td>\n",
       "      <td>96778.92</td>\n",
       "    </tr>\n",
       "    <tr>\n",
       "      <th>11</th>\n",
       "      <td>87515.257310</td>\n",
       "      <td>96479.51</td>\n",
       "    </tr>\n",
       "    <tr>\n",
       "      <th>12</th>\n",
       "      <td>110242.607527</td>\n",
       "      <td>105733.54</td>\n",
       "    </tr>\n",
       "    <tr>\n",
       "      <th>13</th>\n",
       "      <td>90000.891957</td>\n",
       "      <td>96712.80</td>\n",
       "    </tr>\n",
       "    <tr>\n",
       "      <th>14</th>\n",
       "      <td>127479.235154</td>\n",
       "      <td>124266.90</td>\n",
       "    </tr>\n",
       "  </tbody>\n",
       "</table>\n",
       "</div>"
      ],
      "text/plain": [
       "    Predicted value  Actual Value\n",
       "0     103365.654304     103282.38\n",
       "1     132409.631595     144259.40\n",
       "2     133669.589242     146121.95\n",
       "3      71596.334936      77798.83\n",
       "4     179574.880923     191050.39\n",
       "5     114195.968993     105008.31\n",
       "6      65656.852924      81229.06\n",
       "7      97938.810189      97483.56\n",
       "8     114412.298985     110352.25\n",
       "9     169772.368319     166187.94\n",
       "10     96050.905150      96778.92\n",
       "11     87515.257310      96479.51\n",
       "12    110242.607527     105733.54\n",
       "13     90000.891957      96712.80\n",
       "14    127479.235154     124266.90"
      ]
     },
     "execution_count": 34,
     "metadata": {},
     "output_type": "execute_result"
    }
   ],
   "source": [
    "df = pd.DataFrame(data={'Predicted value':y_pred.flatten(),'Actual Value':y_test.flatten()})\n",
    "df"
   ]
  },
  {
   "cell_type": "markdown",
   "id": "7a814d76",
   "metadata": {},
   "source": [
    "# regression metrics"
   ]
  },
  {
   "cell_type": "markdown",
   "id": "503c6261",
   "metadata": {},
   "source": [
    "R2 score"
   ]
  },
  {
   "cell_type": "code",
   "execution_count": 35,
   "id": "952350cb",
   "metadata": {},
   "outputs": [
    {
     "name": "stdout",
     "output_type": "stream",
     "text": [
      "R2 score of model is : 93.21346390789374\n"
     ]
    }
   ],
   "source": [
    "from sklearn.metrics import r2_score\n",
    "r2Score = r2_score(y_pred, y_test)\n",
    "print(\"R2 score of model is :\" ,r2Score*100)"
   ]
  },
  {
   "cell_type": "markdown",
   "id": "aa851b3c",
   "metadata": {},
   "source": [
    "mean squared error"
   ]
  },
  {
   "cell_type": "code",
   "execution_count": 36,
   "id": "347c9705",
   "metadata": {},
   "outputs": [
    {
     "name": "stdout",
     "output_type": "stream",
     "text": [
      "Mean Squarred Error is : 6524519362.317416\n"
     ]
    }
   ],
   "source": [
    "from sklearn.metrics import mean_squared_error\n",
    "mse = mean_squared_error(y_pred, y_test)\n",
    "print(\"Mean Squarred Error is :\" ,mse*100)"
   ]
  },
  {
   "cell_type": "markdown",
   "id": "52c48481",
   "metadata": {},
   "source": [
    "root Mean squared Error"
   ]
  },
  {
   "cell_type": "code",
   "execution_count": 37,
   "id": "259bbb48",
   "metadata": {},
   "outputs": [
    {
     "name": "stdout",
     "output_type": "stream",
     "text": [
      "Root Mean Squarred Error is :  807744.9697966195\n"
     ]
    }
   ],
   "source": [
    "rmse = np.sqrt(mean_squared_error(y_pred, y_test))\n",
    "print(\"Root Mean Squarred Error is : \",rmse*100)"
   ]
  },
  {
   "cell_type": "markdown",
   "id": "d5243fe0",
   "metadata": {},
   "source": [
    "Mean absolute Error"
   ]
  },
  {
   "cell_type": "code",
   "execution_count": 38,
   "id": "800c9184",
   "metadata": {},
   "outputs": [
    {
     "name": "stdout",
     "output_type": "stream",
     "text": [
      "Mean Absolute Error is : 6603.238628961085\n"
     ]
    }
   ],
   "source": [
    "from sklearn.metrics import mean_absolute_error\n",
    "\n",
    "mae = mean_absolute_error(y_pred,y_test)\n",
    "print(\"Mean Absolute Error is :\" ,mae)"
   ]
  },
  {
   "cell_type": "code",
   "execution_count": null,
   "id": "2e39f1fb",
   "metadata": {},
   "outputs": [],
   "source": []
  }
 ],
 "metadata": {
  "kernelspec": {
   "display_name": "Python 3",
   "language": "python",
   "name": "python3"
  },
  "language_info": {
   "codemirror_mode": {
    "name": "ipython",
    "version": 3
   },
   "file_extension": ".py",
   "mimetype": "text/x-python",
   "name": "python",
   "nbconvert_exporter": "python",
   "pygments_lexer": "ipython3",
   "version": "3.9.1"
  }
 },
 "nbformat": 4,
 "nbformat_minor": 5
}
